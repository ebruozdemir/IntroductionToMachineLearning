{
 "cells": [
  {
   "cell_type": "markdown",
   "id": "9808bb81",
   "metadata": {},
   "source": [
    "# Data Types"
   ]
  },
  {
   "cell_type": "code",
   "execution_count": 1,
   "id": "8649be12",
   "metadata": {},
   "outputs": [
    {
     "name": "stdout",
     "output_type": "stream",
     "text": [
      "<class 'str'>\n",
      "<class 'int'>\n",
      "<class 'float'>\n"
     ]
    }
   ],
   "source": [
    "var1= \"Ebru\"\n",
    "print(type(var1))\n",
    "var2= 4\n",
    "print(type(var2))\n",
    "var3= 12.38\n",
    "print(type(var3))"
   ]
  },
  {
   "cell_type": "code",
   "execution_count": 2,
   "id": "14e645fa",
   "metadata": {},
   "outputs": [
    {
     "name": "stdout",
     "output_type": "stream",
     "text": [
      "P\n",
      "n\n",
      "yth\n",
      "6\n",
      "PYTHON\n",
      "python\n",
      "1\n"
     ]
    }
   ],
   "source": [
    "strvar = \"Python\"\n",
    "print(strvar[0])\n",
    "print(strvar[-1])                #last index\n",
    "print(strvar[1:4])               #inclusive:exclusive\n",
    "print(len(strvar))               #length of string\n",
    "print(strvar.upper())            #convert to uppercase\n",
    "print(strvar.lower())            #convert to lowercase\n",
    "print(strvar.count(\"t\"))         #how many \"t\" in string"
   ]
  },
  {
   "cell_type": "markdown",
   "id": "bb021777",
   "metadata": {},
   "source": [
    "# List"
   ]
  },
  {
   "cell_type": "code",
   "execution_count": 5,
   "id": "75e7e341",
   "metadata": {},
   "outputs": [
    {
     "data": {
      "text/plain": [
       "2"
      ]
     },
     "execution_count": 5,
     "metadata": {},
     "output_type": "execute_result"
    }
   ],
   "source": [
    "list1= [1,2,3,4,5,6,7,8]\n",
    "list1.append(9)                #adds 9 to end of list\n",
    "list1.pop(3)                   #removes 3.index of list\n",
    "list1.sort()                   #sorts the list\n",
    "list1.reverse()                #reverse of list\n",
    "list1.remove(3)                #deletes element 3\n",
    "list1.count(1)                 #how many 1 element in list\n",
    "list1.index(7)                 #returns the index number of element 7"
   ]
  },
  {
   "cell_type": "code",
   "execution_count": 7,
   "id": "d5223e01",
   "metadata": {},
   "outputs": [
    {
     "data": {
      "text/plain": [
       "[1, 2, 3, 8, 9, 4, 5, 6, 7]"
      ]
     },
     "execution_count": 7,
     "metadata": {},
     "output_type": "execute_result"
    }
   ],
   "source": [
    "list_x= [1,2,3,8,9]\n",
    "list_y= [4,5,6,7]\n",
    "list_x.extend(list_y)\n",
    "list_x"
   ]
  },
  {
   "cell_type": "code",
   "execution_count": 8,
   "id": "31875eb7",
   "metadata": {},
   "outputs": [
    {
     "data": {
      "text/plain": [
       "[1, 2, 3, [4, 5, 6, 7], 8, 9]"
      ]
     },
     "execution_count": 8,
     "metadata": {},
     "output_type": "execute_result"
    }
   ],
   "source": [
    "list1= [1,2,3,8,9]\n",
    "list2= [4,5,6,7]\n",
    "list1.insert(3,list2)\n",
    "list1"
   ]
  },
  {
   "cell_type": "code",
   "execution_count": 9,
   "id": "4afecb8c",
   "metadata": {},
   "outputs": [
    {
     "name": "stdout",
     "output_type": "stream",
     "text": [
      "45\n",
      "1\n",
      "9\n"
     ]
    }
   ],
   "source": [
    "list1=[1,2,3,4,5,6,7,8,9]\n",
    "print(sum(list1))              #sum of elements in list\n",
    "print(min(list1))              #find minimum element in list\n",
    "print(max(list1))              #find maximum element in list"
   ]
  },
  {
   "cell_type": "markdown",
   "id": "03c9a5a4",
   "metadata": {},
   "source": [
    "# Dictionary"
   ]
  },
  {
   "cell_type": "code",
   "execution_count": 10,
   "id": "4839f356",
   "metadata": {},
   "outputs": [
    {
     "name": "stdout",
     "output_type": "stream",
     "text": [
      "dict_keys(['name', 'surname', 'std_no', 'age', 'address'])\n",
      "dict_values(['Ebru', 'Ozdemir', '1810213062', 23, 'Ankara'])\n",
      "dict_items([('name', 'Ebru'), ('surname', 'Ozdemir'), ('std_no', '1810213062'), ('age', 23), ('address', 'Ankara')])\n"
     ]
    }
   ],
   "source": [
    "dict1={\"name\":\"Ebru\",\"surname\":\"Ozdemir\",\"std_no\":\"1810213062\",\"age\":23,\"address\":\"Ankara\"}\n",
    "print(dict1.keys())\n",
    "print(dict1.values())\n",
    "print(dict1.items())"
   ]
  },
  {
   "cell_type": "code",
   "execution_count": 11,
   "id": "4d35b4dd",
   "metadata": {},
   "outputs": [
    {
     "name": "stdout",
     "output_type": "stream",
     "text": [
      "dict_keys(['name', 'surname', 'std_no', 'age', 'address'])\n",
      "dict_values(['Ebru', 'Ozdemir', '1810213062', 23, {'yasadıgı_sehir': 'Ankara', 'okudugu_sehir': 'Karabuk'}])\n",
      "dict_items([('name', 'Ebru'), ('surname', 'Ozdemir'), ('std_no', '1810213062'), ('age', 23), ('address', {'yasadıgı_sehir': 'Ankara', 'okudugu_sehir': 'Karabuk'})])\n"
     ]
    }
   ],
   "source": [
    "dict2={\"name\":\"Ebru\",\"surname\":\"Ozdemir\",\"std_no\":\"1810213062\",\"age\":23,\"address\":{\"yasadıgı_sehir\": \"Ankara\",\n",
    "                                                                                  \"okudugu_sehir\":\"Karabuk\"}}\n",
    "print(dict2.keys())\n",
    "print(dict2.values())\n",
    "print(dict2.items())"
   ]
  },
  {
   "cell_type": "code",
   "execution_count": 12,
   "id": "8d54e247",
   "metadata": {},
   "outputs": [
    {
     "name": "stdout",
     "output_type": "stream",
     "text": [
      "{'a': 1, 'b': 2, 'c': 3, 'd': 4, 'e': 5, 'f': 6, 'g': 9}\n",
      "{'a': 1, 'b': 2, 'c': 3, 'd': 4, 'e': 5, 'f': 6, 'g': 7}\n",
      "{'a': 1, 'c': 3, 'd': 4, 'e': 5, 'f': 6, 'g': 7}\n",
      "{'a': 1, 'c': 3, 'd': 4, 'e': 5, 'f': 6}\n"
     ]
    }
   ],
   "source": [
    "dict_letters= {\"a\":1 , \"b\":2 , \"c\":3  , \"d\":4, \"e\":5 ,\"f\":6}\n",
    "dict_letters[\"g\"]=9                                              #adds element to dictionary\n",
    "print(dict_letters)  \n",
    "dict_letters.update({\"g\":7})                                     #update element in dictionary\n",
    "print(dict_letters)\n",
    "dict_letters.pop(\"b\")                                            #deletes \"b\" key and its value in dictionary\n",
    "print(dict_letters)\n",
    "dict_letters.popitem()                                           #deletes last element's value and key in dictionary\n",
    "print(dict_letters)"
   ]
  },
  {
   "cell_type": "markdown",
   "id": "fce1ebae",
   "metadata": {},
   "source": [
    "# Conditional Statements"
   ]
  },
  {
   "cell_type": "code",
   "execution_count": 13,
   "id": "7bff6bc3",
   "metadata": {},
   "outputs": [
    {
     "name": "stdout",
     "output_type": "stream",
     "text": [
      "New list['a', 'b', 'c', 'd', 'e', 'f', 'g', 'h']\n"
     ]
    }
   ],
   "source": [
    "list_letters= [\"b\", \"c\" , \"d\" , \"e\" , \"f\" , \"g\" , \"h\"]\n",
    "key_letter = \"a\"\n",
    "\n",
    "if (key_letter in list_letters) and (key_letters== list_letters[0]):\n",
    "    print(\"Exists in list and first element\")\n",
    "elif key_letter in list_letters : \n",
    "    print(\"Exists in list\")\n",
    "else:\n",
    "    list_letters.append(\"a\")\n",
    "    list_letters.sort()\n",
    "    print(\"New list{0}\".format(list_letters))"
   ]
  },
  {
   "cell_type": "markdown",
   "id": "6a464ef8",
   "metadata": {},
   "source": [
    "# Loops\n",
    "*For Loop\n",
    "*While Loop"
   ]
  },
  {
   "cell_type": "code",
   "execution_count": 14,
   "id": "855fe448",
   "metadata": {},
   "outputs": [
    {
     "name": "stdout",
     "output_type": "stream",
     "text": [
      "1.Student Name : Ebru and Surname :Ozdemir\n",
      "2.Student Name : Kayra and Surname :Tas\n",
      "3.Student Name : Kaan and Surname :Gunay\n",
      "4.Student Name : Elif and Surname :Dag\n"
     ]
    }
   ],
   "source": [
    "list1= [\"Ebru Ozdemir\",\"Kayra Tas\",\"Kaan Gunay\",\"Elif Dag\"]\n",
    "std_number=0\n",
    "for names in list1:\n",
    "    std_number +=1\n",
    "    name,surname= names.split()[0],names.split()[1]\n",
    "    print(\"{0}.Student Name : {1} and Surname :{2}\".format(std_number,name,surname))\n",
    "    "
   ]
  },
  {
   "cell_type": "code",
   "execution_count": 15,
   "id": "5b4f6b38",
   "metadata": {},
   "outputs": [
    {
     "name": "stdout",
     "output_type": "stream",
     "text": [
      "1\n",
      "3\n",
      "5\n",
      "7\n",
      "9\n",
      "11\n",
      "13\n",
      "15\n",
      "17\n",
      "19\n",
      "21\n",
      "23\n"
     ]
    }
   ],
   "source": [
    "for n in range(0,25):\n",
    "    if n%2==0:\n",
    "        continue                       #print odd number!!         \n",
    "    print(n)"
   ]
  },
  {
   "cell_type": "code",
   "execution_count": 16,
   "id": "09883c4d",
   "metadata": {},
   "outputs": [
    {
     "name": "stdout",
     "output_type": "stream",
     "text": [
      "120\n"
     ]
    }
   ],
   "source": [
    "x=5\n",
    "result=1\n",
    "while x>0:\n",
    "    result=result*x                             #Factorial \n",
    "    x -=1\n",
    "print(result)"
   ]
  },
  {
   "cell_type": "code",
   "execution_count": 17,
   "id": "628e40c3",
   "metadata": {},
   "outputs": [
    {
     "name": "stdout",
     "output_type": "stream",
     "text": [
      "(0, 'a')\n",
      "(1, 'b')\n",
      "(2, 'c')\n",
      "(3, 'd')\n",
      "(4, 'e')\n",
      "(5, 'f')\n",
      "(6, 'g')\n",
      "(7, 'h')\n",
      "(8, 'j')\n",
      "(9, 'k')\n"
     ]
    }
   ],
   "source": [
    "letters= [\"a\" , \"b\", \"c\",\"d\",\"e\",\"f\",\"g\",\"h\",\"j\",\"k\"]\n",
    "for letter in enumerate(letters):                            #enumerate of list\n",
    "    print(letter)"
   ]
  },
  {
   "cell_type": "markdown",
   "id": "0fa0bb1e",
   "metadata": {},
   "source": [
    "# Functions"
   ]
  },
  {
   "cell_type": "code",
   "execution_count": 19,
   "id": "8e8bf283",
   "metadata": {},
   "outputs": [
    {
     "data": {
      "text/plain": [
       "81"
      ]
     },
     "execution_count": 19,
     "metadata": {},
     "output_type": "execute_result"
    }
   ],
   "source": [
    "def square_number(x):\n",
    "    return x*x\n",
    "square_number(9)"
   ]
  },
  {
   "cell_type": "code",
   "execution_count": 20,
   "id": "02d49b69",
   "metadata": {},
   "outputs": [
    {
     "data": {
      "text/plain": [
       "'Ebru Ozdemir'"
      ]
     },
     "execution_count": 20,
     "metadata": {},
     "output_type": "execute_result"
    }
   ],
   "source": [
    "def combine_name_surname (name,surname):\n",
    "    return \" \".join([name,surname])                 #join() function combines name and surname\n",
    "combine_name_surname(\"Ebru\",\"Ozdemir\")"
   ]
  },
  {
   "cell_type": "code",
   "execution_count": 21,
   "id": "01ebcef2",
   "metadata": {},
   "outputs": [
    {
     "data": {
      "text/plain": [
       "'Ebru Arzu Ozdemir'"
      ]
     },
     "execution_count": 21,
     "metadata": {},
     "output_type": "execute_result"
    }
   ],
   "source": [
    "def combining_name_surname(*args) :                 #args takes more than one parameters\n",
    "    return \" \".join(args)\n",
    "combining_name_surname(\"Ebru\",\"Arzu\",\"Ozdemir\")\n"
   ]
  },
  {
   "cell_type": "code",
   "execution_count": 22,
   "id": "cde5cfea",
   "metadata": {},
   "outputs": [
    {
     "data": {
      "text/plain": [
       "[1, 4, 9, 16, 25]"
      ]
     },
     "execution_count": 22,
     "metadata": {},
     "output_type": "execute_result"
    }
   ],
   "source": [
    "numbers=[* range(1,6)]                           #created a list of elements 1-5\n",
    "[*map(lambda n: n*n,numbers)]                    #map definition applies the function to each element in the list\n",
    "                                                 #lambda definition helps us write functions fast\n",
    "    "
   ]
  }
 ],
 "metadata": {
  "kernelspec": {
   "display_name": "Python 3 (ipykernel)",
   "language": "python",
   "name": "python3"
  },
  "language_info": {
   "codemirror_mode": {
    "name": "ipython",
    "version": 3
   },
   "file_extension": ".py",
   "mimetype": "text/x-python",
   "name": "python",
   "nbconvert_exporter": "python",
   "pygments_lexer": "ipython3",
   "version": "3.9.13"
  }
 },
 "nbformat": 4,
 "nbformat_minor": 5
}

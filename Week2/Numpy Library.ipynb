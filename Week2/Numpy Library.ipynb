{
 "cells": [
  {
   "cell_type": "code",
   "execution_count": 2,
   "id": "38e0f168",
   "metadata": {},
   "outputs": [],
   "source": [
    "#import numpy library \n",
    "import numpy as np"
   ]
  },
  {
   "cell_type": "markdown",
   "id": "7504ff00",
   "metadata": {},
   "source": [
    "# Creating Array"
   ]
  },
  {
   "cell_type": "code",
   "execution_count": 3,
   "id": "e81a4583",
   "metadata": {},
   "outputs": [
    {
     "name": "stdout",
     "output_type": "stream",
     "text": [
      "[1 2 3 4 5]\n",
      "Shape: (5,)\n",
      "Dimension: 1\n",
      "Data Type: int32\n",
      "Size: 5\n",
      "Type: <class 'numpy.ndarray'>\n"
     ]
    }
   ],
   "source": [
    "array= np.array([1,2,3,4,5])\n",
    "print(array)\n",
    "print(\"Shape:\",array.shape)                #Indicates how many rows and columns the array consists of.\n",
    "print(\"Dimension:\",array.ndim)             #Returns dimension of array\n",
    "print(\"Data Type:\",array.dtype.name)       #Returns the data type of the elements in the array.\n",
    "print(\"Size:\",array.size)                  \n",
    "print(\"Type:\",type(array))"
   ]
  },
  {
   "cell_type": "code",
   "execution_count": 4,
   "id": "7e57783b",
   "metadata": {},
   "outputs": [
    {
     "name": "stdout",
     "output_type": "stream",
     "text": [
      "1\n",
      "2\n"
     ]
    }
   ],
   "source": [
    "array2=np.array([1,2,3,4,5,6,7,8,9])\n",
    "array3=np.array([[1,2,3,4,5,6,7,8,9]])\n",
    "print(array2.ndim)\n",
    "print(array3.ndim)"
   ]
  },
  {
   "cell_type": "code",
   "execution_count": 5,
   "id": "54d5d587",
   "metadata": {},
   "outputs": [
    {
     "name": "stdout",
     "output_type": "stream",
     "text": [
      "[[ 1  2  3  4]\n",
      " [ 5  6  7  8]\n",
      " [ 9 10 11 12]]\n",
      "Shape: (3, 4)\n",
      "Dimension: 2\n",
      "Data Type: int32\n",
      "Size: 12\n",
      "Type: <class 'numpy.ndarray'>\n"
     ]
    }
   ],
   "source": [
    "array=np.array([1,2,3,4,5,6,7,8,9,10,11,12])\n",
    "a= array.reshape(3,4)                  #Changes the number of rows and columns of the array.\n",
    "print(a)\n",
    "print(\"Shape:\",a.shape)                \n",
    "print(\"Dimension:\",a.ndim)             \n",
    "print(\"Data Type:\",a.dtype.name)      \n",
    "print(\"Size:\",a.size)                  #Returns the size of the array before the reshape method.              \n",
    "print(\"Type:\",type(a))"
   ]
  },
  {
   "cell_type": "code",
   "execution_count": 12,
   "id": "41422a8e",
   "metadata": {},
   "outputs": [
    {
     "name": "stdout",
     "output_type": "stream",
     "text": [
      "[ 0 10 20 30 40 50 60 70 80 90]\n"
     ]
    }
   ],
   "source": [
    "arr= np.arange(0,100,10)            #inclusive , exclusive,increase amount\n",
    "print(arr)"
   ]
  },
  {
   "cell_type": "code",
   "execution_count": 13,
   "id": "24bd529d",
   "metadata": {},
   "outputs": [
    {
     "name": "stdout",
     "output_type": "stream",
     "text": [
      "[0.         0.55555556 1.11111111 1.66666667 2.22222222 2.77777778\n",
      " 3.33333333 3.88888889 4.44444444 5.        ]\n"
     ]
    }
   ],
   "source": [
    "arr2 = np.linspace(0,5,10)          #inclusive, inclusive , how many numbers \n",
    "print(arr2)"
   ]
  },
  {
   "cell_type": "markdown",
   "id": "a5898378",
   "metadata": {},
   "source": [
    "# Basic Features\n",
    "Counting in arrays starts from zero.\n",
    "Columns: 0   1   2\n",
    "Rows: 0 {1   2   3 \n",
    "      1  4   5   6\n",
    "      2  7   8   9}"
   ]
  },
  {
   "cell_type": "code",
   "execution_count": 20,
   "id": "cb850876",
   "metadata": {},
   "outputs": [
    {
     "name": "stdout",
     "output_type": "stream",
     "text": [
      "[[1 2 3 4]\n",
      " [5 6 7 8]]\n",
      "6\n",
      "[2 6]\n",
      "[5 6 7 8]\n",
      "[5 6 7 8]\n",
      "[4 8]\n",
      "[6 7]\n"
     ]
    }
   ],
   "source": [
    "arr = np.array([[1,2,3,4],[5,6,7,8]])\n",
    "print(arr)\n",
    "print(arr[1,1])                            #1.row and 1.column\n",
    "print(arr[:,1])                            #All rows and 1.column\n",
    "print(arr[1,:])                            #All columns and 1.row\n",
    "print(arr[-1,:])                           #Last row and and all columns\n",
    "print(arr[:,-1])                           #Last column and all rows\n",
    "print(arr[1,1:3])                          #1.row and 1.column-3.column"
   ]
  },
  {
   "cell_type": "code",
   "execution_count": 22,
   "id": "eb4b25e4",
   "metadata": {},
   "outputs": [
    {
     "name": "stdout",
     "output_type": "stream",
     "text": [
      "[1, 2, 3, 4, 5, 6]\n",
      "[9 8 7 6 5 4]\n"
     ]
    }
   ],
   "source": [
    "#Difference between list and array\n",
    "liste= [1,2,3,4,5,6]\n",
    "array= np.array([9,8,7,6,5,4])\n",
    "print(liste)\n",
    "print(array)"
   ]
  },
  {
   "cell_type": "code",
   "execution_count": 23,
   "id": "8461a055",
   "metadata": {},
   "outputs": [
    {
     "name": "stdout",
     "output_type": "stream",
     "text": [
      "[1 2 3 4 5 6]\n",
      "[1, 2, 3, 4, 5, 6]\n"
     ]
    }
   ],
   "source": [
    "#Convert list to array\n",
    "array=np.array(liste)\n",
    "print(array)\n",
    "#Convert array to list\n",
    "liste2=list(array)\n",
    "print(liste2)"
   ]
  },
  {
   "cell_type": "code",
   "execution_count": 29,
   "id": "934dc67a",
   "metadata": {},
   "outputs": [
    {
     "name": "stdout",
     "output_type": "stream",
     "text": [
      "[10  2  3  4  5  6  7  8  9] [10  2  3  4  5  6  7  8  9] [10  2  3  4  5  6  7  8  9]\n",
      "[1 2 3 4 5 6 7 8 9]\n"
     ]
    }
   ],
   "source": [
    "x = np.array([1,2,3,4,5,6,7,8,9])     #If an index of an array changes, all arrays change.\n",
    "y = x\n",
    "z = x\n",
    "y[0]=10\n",
    "print(x,y,z)\n",
    "\n",
    "x = np.array([1,2,3,4,5,6,7,8,9])\n",
    "w = x.copy()                         #If any index changes in the copy method, this array is not affected.\n",
    "print(w)   "
   ]
  },
  {
   "cell_type": "code",
   "execution_count": 36,
   "id": "a43f3edd",
   "metadata": {},
   "outputs": [
    {
     "name": "stdout",
     "output_type": "stream",
     "text": [
      "[[ 1  2  3  4  5  6]\n",
      " [ 7  8  9 10 11 12]]\n",
      "[[ 1  2  3]\n",
      " [ 4  5  6]\n",
      " [ 7  8  9]\n",
      " [10 11 12]]\n",
      "[[ 1  2  3  4]\n",
      " [ 5  6  7  8]\n",
      " [ 9 10 11 12]]\n"
     ]
    }
   ],
   "source": [
    "array = np.array([[1,2,3],[4,5,6],[7,8,9],[10,11,12]])\n",
    "arr1= array.reshape(2,6)                                #Changes made with the reshape method are temporary.\n",
    "print(arr1)\n",
    "print(array)\n",
    "\n",
    "array = np.array([[1,2,3],[4,5,6],[7,8,9],[10,11,12]])   #Changes made with the resize method are permanent.\n",
    "arr2= array.resize((3,4))\n",
    "print(array)"
   ]
  },
  {
   "cell_type": "code",
   "execution_count": 37,
   "id": "2ea74af7",
   "metadata": {},
   "outputs": [
    {
     "name": "stdout",
     "output_type": "stream",
     "text": [
      "[ 1  2  3  4  5  6  7  8  9 10 11 12]\n"
     ]
    }
   ],
   "source": [
    "arr= np.array([[1,2,3],[4,5,6],[7,8,9],[10,11,12]])\n",
    "a= arr.ravel()                                        #Ravel method converts the array to one-dimensional form.\n",
    "print(a)"
   ]
  },
  {
   "cell_type": "code",
   "execution_count": 38,
   "id": "218ad81f",
   "metadata": {},
   "outputs": [
    {
     "name": "stdout",
     "output_type": "stream",
     "text": [
      "[9 8 7 6 5 4 3 2 1]\n"
     ]
    }
   ],
   "source": [
    "#Reverse of Array\n",
    "x = np.array([1,2,3,4,5,6,7,8,9]) \n",
    "x_reverse= x[: : -1]\n",
    "print(x_reverse)"
   ]
  },
  {
   "cell_type": "code",
   "execution_count": 41,
   "id": "2123c16a",
   "metadata": {},
   "outputs": [
    {
     "name": "stdout",
     "output_type": "stream",
     "text": [
      "[[1 4 7]\n",
      " [2 5 8]\n",
      " [3 6 9]]\n"
     ]
    }
   ],
   "source": [
    "#Transpose of Array\n",
    "y= np.array([[1,2,3],[4,5,6],[7,8,9]])\n",
    "y_transpose= y.T\n",
    "print(y_transpose)"
   ]
  },
  {
   "cell_type": "markdown",
   "id": "a63519ee",
   "metadata": {},
   "source": [
    "# Creating Special Matrix\n",
    "-Zero Matrix\n",
    "-Ones Matrix\n",
    "-Unit Matrix\n",
    "-Empty Matrix"
   ]
  },
  {
   "cell_type": "code",
   "execution_count": 6,
   "id": "468c12f6",
   "metadata": {},
   "outputs": [
    {
     "name": "stdout",
     "output_type": "stream",
     "text": [
      "[[0. 0. 0. 0. 0.]\n",
      " [0. 0. 0. 0. 0.]\n",
      " [0. 0. 0. 0. 0.]]\n"
     ]
    }
   ],
   "source": [
    "zeros=np.zeros((3,5))\n",
    "print(zeros)"
   ]
  },
  {
   "cell_type": "code",
   "execution_count": 7,
   "id": "f3d71285",
   "metadata": {},
   "outputs": [
    {
     "name": "stdout",
     "output_type": "stream",
     "text": [
      "[[1. 1. 1. 1.]\n",
      " [1. 1. 1. 1.]]\n"
     ]
    }
   ],
   "source": [
    "ones= np.ones((2,4))\n",
    "print(ones)"
   ]
  },
  {
   "cell_type": "code",
   "execution_count": 8,
   "id": "0599bfbc",
   "metadata": {},
   "outputs": [
    {
     "name": "stdout",
     "output_type": "stream",
     "text": [
      "[[1. 0. 0. 0. 0.]\n",
      " [0. 1. 0. 0. 0.]\n",
      " [0. 0. 1. 0. 0.]\n",
      " [0. 0. 0. 1. 0.]\n",
      " [0. 0. 0. 0. 1.]]\n"
     ]
    }
   ],
   "source": [
    "unit=np.eye((5))\n",
    "print(unit)"
   ]
  },
  {
   "cell_type": "code",
   "execution_count": 9,
   "id": "76a05a59",
   "metadata": {},
   "outputs": [
    {
     "name": "stdout",
     "output_type": "stream",
     "text": [
      "[[9. 9. 9.]\n",
      " [9. 9. 9.]\n",
      " [9. 9. 9.]\n",
      " [9. 9. 9.]\n",
      " [9. 9. 9.]]\n"
     ]
    }
   ],
   "source": [
    "empty_matrix= np.empty([5,3])           #Create an empty array with length 5,3\n",
    "empty_matrix.fill(9)                    #The empty array is filled with the number 9.\n",
    "print(empty_matrix)"
   ]
  },
  {
   "cell_type": "markdown",
   "id": "d736e213",
   "metadata": {},
   "source": [
    "# Basic Operations\n",
    "-Arithmetic Operations\n",
    "-Special Functions\n",
    "-Matrix Multiplication"
   ]
  },
  {
   "cell_type": "code",
   "execution_count": 14,
   "id": "5fb14aa2",
   "metadata": {},
   "outputs": [
    {
     "name": "stdout",
     "output_type": "stream",
     "text": [
      "[10 10 10 10]\n",
      "[-8 -6 -4 -2]\n",
      "[ 9 16 21 24]\n",
      "[ 1  4  9 16]\n",
      "[11 10  9  8]\n"
     ]
    }
   ],
   "source": [
    "x= np.array([1,2,3,4])\n",
    "y= np.array([9,8,7,6])\n",
    "\n",
    "print(x+y)\n",
    "print(x-y)\n",
    "print(x*y)\n",
    "print(x**2)\n",
    "print(y+2)"
   ]
  },
  {
   "cell_type": "code",
   "execution_count": 15,
   "id": "7cd0ba5b",
   "metadata": {},
   "outputs": [
    {
     "name": "stdout",
     "output_type": "stream",
     "text": [
      "[[1 2 3]\n",
      " [4 5 6]\n",
      " [7 8 9]]\n",
      "45\n",
      "9\n",
      "1\n",
      "5.0\n",
      "5.0\n"
     ]
    }
   ],
   "source": [
    "array= np.array([1,2,3,4,5,6,7,8,9])\n",
    "arr= array.reshape(3,3)\n",
    "print(arr)\n",
    "print(arr.sum())                 #sum of all elements in array\n",
    "print(arr.max())                 #find maximum element in array\n",
    "print(arr.min())                 #find maximum element in array\n",
    "print(arr.mean())\n",
    "print(np.median(arr))"
   ]
  },
  {
   "cell_type": "code",
   "execution_count": 16,
   "id": "fbb351be",
   "metadata": {},
   "outputs": [
    {
     "name": "stdout",
     "output_type": "stream",
     "text": [
      "[[11 14 17 20]\n",
      " [23 30 37 44]\n",
      " [35 46 57 68]\n",
      " [47 62 77 92]]\n"
     ]
    }
   ],
   "source": [
    "array = np.array([1,2,3,4,5,6,7,8])\n",
    "x = array.reshape(4,2)\n",
    "y = array.reshape(2,4)\n",
    "print(np.dot(x,y))"
   ]
  }
 ],
 "metadata": {
  "kernelspec": {
   "display_name": "Python 3 (ipykernel)",
   "language": "python",
   "name": "python3"
  },
  "language_info": {
   "codemirror_mode": {
    "name": "ipython",
    "version": 3
   },
   "file_extension": ".py",
   "mimetype": "text/x-python",
   "name": "python",
   "nbconvert_exporter": "python",
   "pygments_lexer": "ipython3",
   "version": "3.9.13"
  }
 },
 "nbformat": 4,
 "nbformat_minor": 5
}
